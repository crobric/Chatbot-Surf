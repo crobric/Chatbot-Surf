{
 "cells": [
  {
   "cell_type": "code",
   "execution_count": 1,
   "metadata": {
    "scrolled": true
   },
   "outputs": [
    {
     "name": "stderr",
     "output_type": "stream",
     "text": [
      " * Running on http://127.0.0.1:5000/ (Press CTRL+C to quit)\n",
      "127.0.0.1 - - [19/Jul/2018 17:02:02] \"POST / HTTP/1.1\" 200 -\n"
     ]
    },
    {
     "name": "stdout",
     "output_type": "stream",
     "text": [
      "complete\n",
      "le message est hello et le sport choisi est \n"
     ]
    },
    {
     "name": "stderr",
     "output_type": "stream",
     "text": [
      "127.0.0.1 - - [19/Jul/2018 17:02:03] \"POST / HTTP/1.1\" 200 -\n"
     ]
    },
    {
     "name": "stdout",
     "output_type": "stream",
     "text": [
      "there's no delivery handler\n"
     ]
    },
    {
     "name": "stderr",
     "output_type": "stream",
     "text": [
      "127.0.0.1 - - [19/Jul/2018 17:02:09] \"POST / HTTP/1.1\" 200 -\n"
     ]
    },
    {
     "name": "stdout",
     "output_type": "stream",
     "text": [
      "complete\n",
      "le message est Surf et le sport choisi est Surf\n"
     ]
    },
    {
     "name": "stderr",
     "output_type": "stream",
     "text": [
      "127.0.0.1 - - [19/Jul/2018 17:02:10] \"POST / HTTP/1.1\" 200 -\n"
     ]
    },
    {
     "name": "stdout",
     "output_type": "stream",
     "text": [
      "there's no delivery handler\n"
     ]
    },
    {
     "name": "stderr",
     "output_type": "stream",
     "text": [
      "127.0.0.1 - - [19/Jul/2018 17:02:14] \"POST / HTTP/1.1\" 200 -\n"
     ]
    },
    {
     "name": "stdout",
     "output_type": "stream",
     "text": [
      "complete\n",
      "le message est Gohaud et le sport choisi est Surf\n"
     ]
    },
    {
     "name": "stderr",
     "output_type": "stream",
     "text": [
      "127.0.0.1 - - [19/Jul/2018 17:02:15] \"POST / HTTP/1.1\" 200 -\n"
     ]
    },
    {
     "name": "stdout",
     "output_type": "stream",
     "text": [
      "there's no delivery handler\n"
     ]
    }
   ],
   "source": [
    "#Python libraries that we need to import for our bot\n",
    "import sys\n",
    "sys.path.append('C:\\\\Users\\\\126266\\\\AppData\\\\Local\\\\Programs\\\\Python\\\\Python36-32\\\\Lib\\\\site-packages')\n",
    "import os\n",
    "from flask import Flask, request\n",
    "#from fbmessenger import BaseMessenger\n",
    "#from fbmessenger import quick_replies\n",
    "#from fbmessenger import *\n",
    "#from fbmessenger.elements import Text\n",
    "#from fbmessenger.thread_settings import GreetingText, GetStartedButton, MessengerProfile\n",
    "from fbmq import *\n",
    "%run fonctionsAPI.ipynb\n",
    "%run parameters_chatbot.ipynb\n",
    "#%run appelApiMSW.ipynb\n",
    "\n",
    "\n",
    "\n",
    "i=0 #i est utilisé pour savoit où on se trouve dans l'arbre de décision\n",
    "sport=str()\n",
    "randomAnswer,listeSpot = liste_spot_bot() #on initialise la liste des spots qui seront utilisés\n",
    "#minWaveHeight=0 #hauteur vague mini en metres\n",
    "#minPeriod=0 #Periode vague mni en seconds\n",
    "#windMin=5 #min kite wind speed in knts\n",
    "\n",
    "#List of the spots available for quick replies\n",
    "quick_replies = []\n",
    "list_options=[]\n",
    "reponse,listeSpot = liste_spot_bot()\n",
    "\n",
    "for a in listeSpot:\n",
    "    quick_replies.append(fbmq.QuickReply(title=a.nomSpot, payload=\"PICK_\"+a.nomSpot.upper()))\n",
    "\n",
    "list_options=[\n",
    "    fbmq.QuickReply(title=\"Surf\", payload=\"SURF\"),\n",
    "    fbmq.QuickReply(title=\"Kitesurf\", payload=\"KITESURF\"),\n",
    "]\n",
    "    \n",
    "#FB tokens for communication and verifications\n",
    "FB_PAGE_TOKEN = 'EAAXAUtKxWnUBAG3DqlaKQ7yMoTVHd72r2ZC0mbyl73iqhhK4tEfZB0FoPnIH5IqUHZCOrIZBZC2whHauOQCpMyFdbrVNDOEqBMuYZALREAnyIy1UcHzzrMTHqy5iJunCTVsYqKvKeXvsm0yDlWyy9UZCYRXCZCtPbodufbwvneZCnFwZDZD'\n",
    "FB_VERIFY_TOKEN = 'coucoulesloulous'\n",
    "\n",
    "\n",
    "#Definition of the chatbot\n",
    "page = Page(FB_PAGE_TOKEN)\n",
    "\n",
    "\n",
    "\n",
    "\n",
    "\n",
    "##Flask App\n",
    "app = Flask(__name__)\n",
    "\n",
    "@app.route('/', methods=['GET'])\n",
    "def validate():\n",
    "    if request.args.get('hub.mode', '') == 'subscribe' and \\\n",
    "                    request.args.get('hub.verify_token', '') == FB_VERIFY_TOKEN:\n",
    "\n",
    "        print(\"Validating webhook\")\n",
    "\n",
    "        return request.args.get('hub.challenge', '')\n",
    "    else:\n",
    "        return 'Failed validation. Make sure the validation tokens match.'\n",
    "\n",
    "\n",
    "\n",
    "@app.route(\"/\", methods=['POST'])\n",
    "\n",
    "def webhook():\n",
    "  page.handle_webhook(request.get_data(as_text=True))\n",
    "  return \"ok\"\n",
    "\n",
    "@page.handle_message\n",
    "def message_handler(event):\n",
    "    \"\"\":type event: fbmq.Event\"\"\"\n",
    "    global i\n",
    "    global listeSpot\n",
    "    global minWaveHeight\n",
    "    global minPeriod\n",
    "    global windMin\n",
    "    global quick_replies\n",
    "    global list_options\n",
    "    global sport\n",
    "    \n",
    "    sender_id = event.sender_id\n",
    "    message = event.message_text\n",
    "    answer=0\n",
    "    \n",
    "    \n",
    "    #page.send(sender_id, \"thank you! your message is '%s'\" % message)\n",
    "    \n",
    "    #We start by assigning sport depending on the message\n",
    "    if message==\"Surf\" or message==\"Kitesurf\":\n",
    "        answer=1\n",
    "        sport=message\n",
    "        page.send(sender_id, \n",
    "                  \"Quel spot t'intéresse ?\",\n",
    "                  quick_replies=quick_replies,\n",
    "                  metadata=\"DEVELOPER_DEFINED_METADATA\")\n",
    "        \n",
    "    if answer==0:\n",
    "        #If no sport selected, need to ask what sport to be selected\n",
    "        if sport!=\"Surf\" and sport!=\"Kitesurf\":\n",
    "            answer=1\n",
    "            page.send(sender_id, \"Quel sport veux tu faire aujourd'hui ?\",\n",
    "                      quick_replies=list_options,\n",
    "                      metadata=\"DEVELOPER_DEFINED_METADATA\")\n",
    "        \n",
    "                        \n",
    "    #If the user sends a spot name, we reply with the forecast for the spot based on the applicable sport\n",
    "    if answer==0:\n",
    "        for a in listeSpot:\n",
    "                if message==a.nomSpot:#Le message envoyé est le nom du spot\n",
    "                    answer=1\n",
    "                    spotChoisi=a\n",
    "                    forecastMSW=get_forecast_MSW(spotChoisi.idSpot)  #Télécharment données spot\n",
    "                    reponse = prochaine_bonne_session_bot(spotChoisi,forecastMSW,minWaveHeight,minPeriod,windMin,sport) #Envoi du forecast prochaine bonne session\n",
    "\n",
    "                    page.send(sender_id, reponse)\n",
    "                \n",
    "                \n",
    "    #Otherwise we suggest a list of sport\n",
    "    if answer==0:\n",
    "        page.send(sender_id, \"Quel sport veux tu faire aujourd'hui ?\",\n",
    "          quick_replies=list_options,\n",
    "          metadata=\"DEVELOPER_DEFINED_METADATA\")\n",
    "    \n",
    "    print(\"le message est {} et le sport choisi est {}\".format(message,sport))     \n",
    "    \n",
    "\n",
    "@page.after_send\n",
    "def after_send(payload, response):\n",
    "  \"\"\":type payload: fbmq.Payload\"\"\"\n",
    "  print(\"complete\")\n",
    "\n",
    "@page.callback(['PICK_ACTION', 'PICK_COMEDY'])\n",
    "def callback_picked_genre(payload, event):\n",
    "  print(payload, event)\n",
    " \n",
    "if __name__ == '__main__':\n",
    "    app.run()\n",
    "\n",
    "    \n",
    "    ##Ngrok relancer ngrok et modifier l'adresse de redirection dans les paramètres Facebook (adresse https):https://developers.facebook.com/apps/1618836838242933/messenger/settings/\n",
    "    "
   ]
  },
  {
   "cell_type": "code",
   "execution_count": 8,
   "metadata": {},
   "outputs": [
    {
     "name": "stdout",
     "output_type": "stream",
     "text": [
      "Surf\n"
     ]
    }
   ],
   "source": []
  }
 ],
 "metadata": {
  "kernelspec": {
   "display_name": "Python 3",
   "language": "python",
   "name": "python3"
  },
  "language_info": {
   "codemirror_mode": {
    "name": "ipython",
    "version": 3
   },
   "file_extension": ".py",
   "mimetype": "text/x-python",
   "name": "python",
   "nbconvert_exporter": "python",
   "pygments_lexer": "ipython3",
   "version": "3.6.3"
  }
 },
 "nbformat": 4,
 "nbformat_minor": 2
}
